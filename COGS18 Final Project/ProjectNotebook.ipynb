{
 "cells": [
  {
   "cell_type": "markdown",
   "metadata": {},
   "source": [
    "# Project Description"
   ]
  },
  {
   "cell_type": "markdown",
   "metadata": {},
   "source": [
    "This is a financial chatbot that can help the users to calculate time value of money easily.\n",
    "\n",
    "Time value of money is widely use in our daily life.\n",
    "\n",
    "For example,\n",
    "                   \n",
    "                   How much do you need to invest right now to buy a house after 5 years ?\n",
    "\n",
    "                   What interst rate can you undertake if you borrow 50,000 from the bank which will due in 5 years, but you can only payback 3,500\n",
    "                   every year ?\n",
    "\n",
    "All these questions in your mind and be solved with Financee' !\n",
    "\n",
    "Since the terms that are used in finance is sometimes hard to understand, the Financee' chatbot also provide brief explaination for users.\n",
    "\n",
    "Moreover, using a regular financial calculator needs to be aware of selecting positive and negative sign with numerical input, but Financee' will not confuse you with those mathematical logic because its already adjusted ! What you see is what you need !"
   ]
  },
  {
   "cell_type": "markdown",
   "metadata": {},
   "source": [
    "## Project Code\n",
    "\n",
    "If it makes sense for your project, you can have code and outputs here in the notebook as well."
   ]
  },
  {
   "cell_type": "code",
   "execution_count": 92,
   "metadata": {},
   "outputs": [
    {
     "name": "stdout",
     "output_type": "stream",
     "text": [
      "\u001b[1m============================= test session starts ==============================\u001b[0m\n",
      "platform darwin -- Python 3.7.6, pytest-5.3.5, py-1.8.1, pluggy-0.13.1\n",
      "rootdir: /Users/Daoba/Desktop/ProjectTemplate\n",
      "plugins: hypothesis-5.5.4, arraydiff-0.3, remotedata-0.3.2, openfiles-0.4.0, doctestplus-0.5.0, astropy-header-0.1.2\n",
      "collected 2 items                                                              \u001b[0m\n",
      "\n",
      "my_module/test_functions.py \u001b[32m.\u001b[0m\u001b[32m.\u001b[0m\u001b[32m                                           [100%]\u001b[0m\n",
      "\n",
      "\u001b[32m============================== \u001b[32m\u001b[1m2 passed\u001b[0m\u001b[32m in 0.02s\u001b[0m\u001b[32m ===============================\u001b[0m\n"
     ]
    }
   ],
   "source": [
    "!pytest my_module"
   ]
  },
  {
   "cell_type": "code",
   "execution_count": 81,
   "metadata": {},
   "outputs": [],
   "source": [
    "# If you need to install numpy-financial\n",
    "#!pip install numpy-financial\n",
    "from my_module.functions import *\n"
   ]
  },
  {
   "cell_type": "code",
   "execution_count": 82,
   "metadata": {},
   "outputs": [
    {
     "name": "stdout",
     "output_type": "stream",
     "text": [
      "Hi, I'm Financee'. I can evaluate your investment or loan. Do you have any investment or loan ? (yes/no)\n",
      "INPUT :\tyes\n",
      "Do you want me to explain what is present value, future value, payment, required rate per year, or required time period? (yes/no) \n",
      "INPUT :\tyes\n",
      "present value  :  The amount of money you have now, or the amount you need to invest or borrow now ! \n",
      "\n",
      "future value  :  The amount of money you will get ( or want to get ) after required time period ! It could also be 0 if you want to know the payment of the loan! \n",
      "\n",
      "payment  :  The capital you want ( or need ) to invest in each year, or the amount of money you want ( or need ) to pay off your debt in each year before due ! \n",
      "\n",
      "required rate per year  :  The rate of return you need to reach your investment goal, or the interest rate you can (or need to) handle for your loan! \n",
      " If its 10%, please input 0.1 later !\n",
      " \n",
      "required time period  :  The number of years you want to invest, or have to pay off your debt (from now to due) ! \n",
      "\n",
      "Which value can I help you find out? Please specify.\n",
      "INPUT :\tpresent value\n",
      "What is your future value?$500\n",
      "future value is a wrong type of input. Please input a number with no special characters~\n",
      "What is your future value?500\n",
      "What is your payment?5\n",
      "What is your required rate per year?5\n",
      "What is your required time period?5\n",
      "0.935570987654321\n"
     ]
    }
   ],
   "source": [
    "# Talk to the bot\n",
    "have_a_chat()"
   ]
  },
  {
   "cell_type": "markdown",
   "metadata": {},
   "source": [
    "#### Extra Credit (*optional*)\n",
    "\n",
    "This is the first time I learn how to code in my life.\n",
    "\n",
    "In this project, I learned how to use numpy-financial and used it to biuld a function. I learned the mathematical logic behind numpy-financial, and adjusted it in my function to make it more understandable for user who has no finance background."
   ]
  }
 ],
 "metadata": {
  "kernelspec": {
   "display_name": "Python 3",
   "language": "python",
   "name": "python3"
  },
  "language_info": {
   "codemirror_mode": {
    "name": "ipython",
    "version": 3
   },
   "file_extension": ".py",
   "mimetype": "text/x-python",
   "name": "python",
   "nbconvert_exporter": "python",
   "pygments_lexer": "ipython3",
   "version": "3.7.6"
  }
 },
 "nbformat": 4,
 "nbformat_minor": 2
}
